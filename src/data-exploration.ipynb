{
 "cells": [
  {
   "cell_type": "code",
   "execution_count": null,
   "id": "initial_id",
   "metadata": {
    "ExecuteTime": {
     "end_time": "2025-02-08T16:53:16.599420Z",
     "start_time": "2025-02-08T16:53:15.024386Z"
    },
    "collapsed": true
   },
   "outputs": [],
   "source": [
    "import kagglehub\n",
    "\n",
    "# Download latest version\n",
    "path = kagglehub.dataset_download(\"dylanjcastillo/7k-books-with-metadata\")\n",
    "\n",
    "print(\"Path to dataset files:\", path)"
   ]
  },
  {
   "cell_type": "code",
   "execution_count": 2,
   "id": "37a74adf575d9c10",
   "metadata": {
    "ExecuteTime": {
     "end_time": "2025-02-08T16:55:04.998751Z",
     "start_time": "2025-02-08T16:55:03.521736Z"
    }
   },
   "outputs": [],
   "source": [
    "import pandas as pd"
   ]
  },
  {
   "cell_type": "code",
   "execution_count": 3,
   "id": "aece7fb91312a295",
   "metadata": {
    "ExecuteTime": {
     "end_time": "2025-02-08T16:55:30.850714Z",
     "start_time": "2025-02-08T16:55:30.727715Z"
    }
   },
   "outputs": [],
   "source": [
    "books = pd.read_csv(f\"{path}/books.csv\")"
   ]
  },
  {
   "cell_type": "code",
   "execution_count": null,
   "id": "44e2a0144285c40d",
   "metadata": {
    "ExecuteTime": {
     "end_time": "2025-02-08T16:55:36.956481Z",
     "start_time": "2025-02-08T16:55:36.908318Z"
    }
   },
   "outputs": [],
   "source": [
    "books"
   ]
  },
  {
   "cell_type": "code",
   "execution_count": 5,
   "id": "b704fa669e25276d",
   "metadata": {
    "ExecuteTime": {
     "end_time": "2025-02-08T17:01:13.555289Z",
     "start_time": "2025-02-08T17:00:55.801177Z"
    }
   },
   "outputs": [],
   "source": [
    "import seaborn as sns\n",
    "import matplotlib.pyplot as plt"
   ]
  },
  {
   "cell_type": "code",
   "execution_count": null,
   "id": "f71a9d4dcdf7e967",
   "metadata": {
    "ExecuteTime": {
     "end_time": "2025-02-08T17:02:47.187473Z",
     "start_time": "2025-02-08T17:02:46.547379Z"
    }
   },
   "outputs": [],
   "source": [
    "ax = plt.axes()\n",
    "sns.heatmap(books.isna().transpose(), cbar=False, ax=ax, cmap=\"viridis\")\n",
    "\n",
    "plt.xlabel(\"Columns\")\n",
    "plt.ylabel(\"Missing values\")\n",
    "\n",
    "plt.show()"
   ]
  },
  {
   "cell_type": "code",
   "execution_count": 7,
   "id": "3d38b6b284c85037",
   "metadata": {
    "ExecuteTime": {
     "end_time": "2025-02-08T17:10:22.661050Z",
     "start_time": "2025-02-08T17:10:22.598786Z"
    }
   },
   "outputs": [],
   "source": [
    "import numpy as np\n",
    "\n",
    "books[\"missing_description\"] = np.where(books[\"description\"].isna(), 1, 0)\n",
    "books[\"age_of_books\"] = 2024 - books[\"published_year\"]"
   ]
  },
  {
   "cell_type": "code",
   "execution_count": null,
   "id": "f4129ee7ec44ef8c",
   "metadata": {
    "ExecuteTime": {
     "end_time": "2025-02-08T17:13:25.153979Z",
     "start_time": "2025-02-08T17:13:24.906570Z"
    }
   },
   "outputs": [],
   "source": [
    "columns_of_interest = [\"num_pages\", \"age_of_books\", \"missing_description\", \"average_rating\"]\n",
    "\n",
    "correlation_matrix = books[columns_of_interest].corr(method=\"spearman\")\n",
    "\n",
    "sns.set_theme(style=\"white\")\n",
    "plt.figure(figsize=(8, 6))\n",
    "heatmap = sns.heatmap(correlation_matrix, annot=True, fmt=\".2f\", cmap=\"coolwarm\",\n",
    "                      cbar_kws={\"label\": \"Spearman correlation\"})\n",
    "heatmap.set_title(\"Correlation matrix\")"
   ]
  },
  {
   "cell_type": "code",
   "execution_count": null,
   "id": "ca76ce46d8f0df7e",
   "metadata": {
    "ExecuteTime": {
     "end_time": "2025-02-08T17:18:24.219601Z",
     "start_time": "2025-02-08T17:18:24.174730Z"
    }
   },
   "outputs": [],
   "source": [
    "book_missing = books[~(books[\"description\"].isna()) &\n",
    "      ~(books[\"num_pages\"].isna()) &\n",
    "      ~(books[\"average_rating\"].isna()) &\n",
    "      ~(books[\"published_year\"].isna())\n",
    "]\n",
    "\n",
    "book_missing"
   ]
  },
  {
   "cell_type": "code",
   "execution_count": null,
   "id": "310e288ac790d08",
   "metadata": {
    "ExecuteTime": {
     "end_time": "2025-02-08T17:20:27.426687Z",
     "start_time": "2025-02-08T17:20:27.371199Z"
    }
   },
   "outputs": [],
   "source": [
    "book_missing[\"categories\"].value_counts().reset_index().sort_values(\"count\", ascending=False)"
   ]
  },
  {
   "cell_type": "code",
   "execution_count": null,
   "id": "d17ebb9882518faf",
   "metadata": {
    "ExecuteTime": {
     "end_time": "2025-02-08T17:23:33.917878Z",
     "start_time": "2025-02-08T17:23:33.823621Z"
    }
   },
   "outputs": [],
   "source": [
    "book_missing"
   ]
  },
  {
   "cell_type": "code",
   "execution_count": null,
   "id": "4f8c5e39de52750",
   "metadata": {
    "ExecuteTime": {
     "end_time": "2025-02-08T17:24:43.697116Z",
     "start_time": "2025-02-08T17:24:43.601609Z"
    }
   },
   "outputs": [],
   "source": [
    "book_missing[\"words_in_description\"] = book_missing[\"description\"].str.split().str.len()"
   ]
  },
  {
   "cell_type": "code",
   "execution_count": null,
   "id": "6f290c8c5646db23",
   "metadata": {
    "ExecuteTime": {
     "end_time": "2025-02-08T17:25:12.783203Z",
     "start_time": "2025-02-08T17:25:12.757786Z"
    }
   },
   "outputs": [],
   "source": [
    "book_missing"
   ]
  },
  {
   "cell_type": "code",
   "execution_count": null,
   "id": "1cefc551d4420547",
   "metadata": {
    "ExecuteTime": {
     "end_time": "2025-02-08T17:28:05.742509Z",
     "start_time": "2025-02-08T17:28:05.721667Z"
    }
   },
   "outputs": [],
   "source": [
    "book_missing.loc[book_missing[\"words_in_description\"].between(1, 4), \"description\"]"
   ]
  },
  {
   "cell_type": "code",
   "execution_count": null,
   "id": "12188ad9c2c27f2a",
   "metadata": {
    "ExecuteTime": {
     "end_time": "2025-02-08T17:28:52.714785Z",
     "start_time": "2025-02-08T17:28:52.699840Z"
    }
   },
   "outputs": [],
   "source": [
    "book_missing.loc[book_missing[\"words_in_description\"].between(5, 14), \"description\"]\n"
   ]
  },
  {
   "cell_type": "code",
   "execution_count": null,
   "id": "d3621be182b0a2b4",
   "metadata": {
    "ExecuteTime": {
     "end_time": "2025-02-08T17:29:11.992787Z",
     "start_time": "2025-02-08T17:29:11.959696Z"
    }
   },
   "outputs": [],
   "source": [
    "book_missing.loc[book_missing[\"words_in_description\"].between(15, 24), \"description\"]"
   ]
  },
  {
   "cell_type": "code",
   "execution_count": null,
   "id": "508d77fbe0afab56",
   "metadata": {
    "ExecuteTime": {
     "end_time": "2025-02-08T17:30:19.567361Z",
     "start_time": "2025-02-08T17:30:19.551507Z"
    }
   },
   "outputs": [],
   "source": [
    "book_missing.loc[book_missing[\"words_in_description\"].between(25, 34), \"description\"]"
   ]
  },
  {
   "cell_type": "code",
   "execution_count": 24,
   "id": "9eb469ff010f8f43",
   "metadata": {
    "ExecuteTime": {
     "end_time": "2025-02-08T17:31:25.279867Z",
     "start_time": "2025-02-08T17:31:25.264366Z"
    }
   },
   "outputs": [],
   "source": [
    "book_missing_25_words = book_missing[book_missing[\"words_in_description\"] >= 25]"
   ]
  },
  {
   "cell_type": "code",
   "execution_count": null,
   "id": "40d39238b1fe3341",
   "metadata": {
    "ExecuteTime": {
     "end_time": "2025-02-08T17:31:34.928468Z",
     "start_time": "2025-02-08T17:31:34.897102Z"
    }
   },
   "outputs": [],
   "source": [
    "book_missing_25_words"
   ]
  },
  {
   "cell_type": "code",
   "execution_count": null,
   "id": "a862638354d80b87",
   "metadata": {
    "ExecuteTime": {
     "end_time": "2025-02-08T17:34:53.569894Z",
     "start_time": "2025-02-08T17:34:53.487551Z"
    }
   },
   "outputs": [],
   "source": [
    "book_missing_25_words[\"title_and_subtitle\"] = (\n",
    "    np.where(book_missing_25_words[\"subtitle\"].isna(), book_missing_25_words[\"title\"],\n",
    "             book_missing_25_words[[\"title\", \"subtitle\"]].astype(str).agg(\": \".join, axis=1))\n",
    ")"
   ]
  },
  {
   "cell_type": "code",
   "execution_count": null,
   "id": "e64f849b19efd834",
   "metadata": {
    "ExecuteTime": {
     "end_time": "2025-02-08T17:34:59.830649Z",
     "start_time": "2025-02-08T17:34:59.804001Z"
    }
   },
   "outputs": [],
   "source": [
    "book_missing_25_words"
   ]
  },
  {
   "cell_type": "code",
   "execution_count": null,
   "id": "7251f1474cc832ca",
   "metadata": {
    "ExecuteTime": {
     "end_time": "2025-02-08T17:36:30.544961Z",
     "start_time": "2025-02-08T17:36:30.486443Z"
    }
   },
   "outputs": [],
   "source": [
    "book_missing_25_words[\"tagged_description\"] = book_missing_25_words[[\"isbn13\", \"description\"]].astype(str).agg(\" \".join, axis=1)"
   ]
  },
  {
   "cell_type": "code",
   "execution_count": null,
   "id": "efb530e79fe656eb",
   "metadata": {
    "ExecuteTime": {
     "end_time": "2025-02-08T17:36:47.251245Z",
     "start_time": "2025-02-08T17:36:47.201363Z"
    }
   },
   "outputs": [],
   "source": [
    "book_missing_25_words\n"
   ]
  },
  {
   "cell_type": "code",
   "execution_count": 31,
   "id": "bcfdec9b4e70dec9",
   "metadata": {
    "ExecuteTime": {
     "end_time": "2025-02-08T17:38:04.286146Z",
     "start_time": "2025-02-08T17:38:04.109063Z"
    }
   },
   "outputs": [],
   "source": [
    "(\n",
    "    book_missing_25_words\n",
    "    .drop([\"subtitle\", \"missing_description\", \"age_of_books\", \"words_in_description\"], axis=1)\n",
    "    .to_csv(\"book_cleaned.csv\", index=False)\n",
    ")"
   ]
  },
  {
   "cell_type": "code",
   "execution_count": null,
   "id": "c14959f1b846286d",
   "metadata": {},
   "outputs": [],
   "source": []
  }
 ],
 "metadata": {
  "kernelspec": {
   "display_name": ".venv",
   "language": "python",
   "name": "python3"
  },
  "language_info": {
   "codemirror_mode": {
    "name": "ipython",
    "version": 3
   },
   "file_extension": ".py",
   "mimetype": "text/x-python",
   "name": "python",
   "nbconvert_exporter": "python",
   "pygments_lexer": "ipython3",
   "version": "3.11.4"
  }
 },
 "nbformat": 4,
 "nbformat_minor": 5
}
